{
 "cells": [
  {
   "cell_type": "code",
   "execution_count": 1,
   "metadata": {},
   "outputs": [],
   "source": [
    "import os\n",
    "import requests\n",
    "from bs4 import BeautifulSoup\n",
    "import re\n",
    "\n",
    "\n",
    "URL = \"https://en.wikipedia.org/wiki/Category:Endangered_animals\"\n",
    "page = requests.get(URL)\n",
    "soup = BeautifulSoup(page.content, \"html.parser\")\n",
    "\n",
    "cat_pages = []\n",
    "\n",
    "for h2 in soup.find_all(\"h2\"):\n",
    "    if \"Pages in category\" in h2.text:\n",
    "        for a in h2.find_all_next(\"a\", href=True, limit=103):\n",
    "            if \"wiki\" in a[\"href\"]:\n",
    "                cat_pages.append(a[\"href\"])\n",
    "\n",
    "del cat_pages[0]\n",
    "category_name = re.search(r\"Category:(.*)\", URL).group(1)\n",
    "if not os.path.exists(category_name):\n",
    "    os.makedirs(category_name)\n",
    "\n",
    "for c in cat_pages:\n",
    "    URL = \"https://en.wikipedia.org\" + c  \n",
    "\n",
    "    page = requests.get(URL)\n",
    "    newsoup = BeautifulSoup(page.content, \"html.parser\")\n",
    "    page_title = re.sub(r'/wiki/', '', c)\n",
    "\n",
    "    filename = os.path.join(category_name, f\"{page_title}.txt\")\n",
    "\n",
    "    with open(filename, \"w\", encoding=\"utf-8\") as file:\n",
    "        for info in newsoup.find_all(\"p\"):\n",
    "            mystring = info.get_text()\n",
    "            mystring = re.sub(\"\\n\", \" \", mystring)\n",
    "            mystring = re.sub(\"\\s+\", \" \", mystring)\n",
    "            mystring = re.sub(\"\\[.*?\\]\", \" \", mystring)\n",
    "            file.write(mystring + \"\\n\")\n"
   ]
  },
  {
   "cell_type": "code",
   "execution_count": 1,
   "metadata": {},
   "outputs": [
    {
     "ename": "SyntaxError",
     "evalue": "invalid syntax (898849373.py, line 1)",
     "output_type": "error",
     "traceback": [
      "\u001b[0;36m  Input \u001b[0;32mIn [1]\u001b[0;36m\u001b[0m\n\u001b[0;31m    git remote add origin git@github.com:hammadhassanshah/Text-Processing.git\u001b[0m\n\u001b[0m        ^\u001b[0m\n\u001b[0;31mSyntaxError\u001b[0m\u001b[0;31m:\u001b[0m invalid syntax\n"
     ]
    }
   ],
   "source": []
  },
  {
   "cell_type": "code",
   "execution_count": null,
   "metadata": {},
   "outputs": [],
   "source": []
  }
 ],
 "metadata": {
  "kernelspec": {
   "display_name": "Python 3.10.6 64-bit",
   "language": "python",
   "name": "python3"
  },
  "language_info": {
   "codemirror_mode": {
    "name": "ipython",
    "version": 3
   },
   "file_extension": ".py",
   "mimetype": "text/x-python",
   "name": "python",
   "nbconvert_exporter": "python",
   "pygments_lexer": "ipython3",
   "version": "3.10.6"
  },
  "orig_nbformat": 4,
  "vscode": {
   "interpreter": {
    "hash": "7e1998ff7f8aa20ada591c520b972326324e5ea05489af9e422744c7c09f6dad"
   }
  }
 },
 "nbformat": 4,
 "nbformat_minor": 2
}
